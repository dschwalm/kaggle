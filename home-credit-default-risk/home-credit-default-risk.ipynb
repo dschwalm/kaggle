{
 "cells": [
  {
   "cell_type": "code",
   "execution_count": null,
   "metadata": {},
   "outputs": [],
   "source": [
    "%reset -f\n",
    "import pandas as pd\n",
    "import numpy as np\n",
    "import matplotlib as mp\n",
    "import seaborn as sns\n",
    "import csv\n",
    "import re\n",
    "import gc\n",
    "import sys, os, random\n",
    "\n",
    "pd.set_option('display.max_rows',1000)\n",
    "\n",
    "root = '/Users/schwalmdaniel/github/kaggle/home-credit-default-risk'\n",
    "#root = 'e:/kaggle/house_prices_kaggle'\n",
    "\n",
    "train=pd.read_csv(root + \"/application_train.csv\")\n",
    "test=pd.read_csv(root + \"/application_test.csv\")\n",
    "\n",
    "\n",
    "\n",
    "# have a look at the ds\n",
    "train.head()"
   ]
  },
  {
   "cell_type": "code",
   "execution_count": null,
   "metadata": {},
   "outputs": [],
   "source": [
    "train['TARGET'].value_counts()\n",
    "\n",
    "# it is an unbalanced data, 8.5% of the target is 1, so the baseline is around 92%"
   ]
  },
  {
   "cell_type": "code",
   "execution_count": null,
   "metadata": {},
   "outputs": [],
   "source": [
    "# 'NAME_CONTRACT_TYPE', 2 values, converting to 0/1\n",
    "train['NAME_CONTRACT_TYPE'] = train['NAME_CONTRACT_TYPE'].apply(lambda x: 0 if x == 'Cash loans' else 1)\n",
    "test['NAME_CONTRACT_TYPE'] = test['NAME_CONTRACT_TYPE'].apply(lambda x: 0 if x == 'Cash loans' else 1)"
   ]
  },
  {
   "cell_type": "code",
   "execution_count": null,
   "metadata": {},
   "outputs": [],
   "source": [
    "# 'CODE_GENDER', drop XNA as only 4 rows, convert the rest to 0/1\n",
    "train = train[train['CODE_GENDER'] != 'XNA']\n",
    "train['CODE_GENDER'] = train['CODE_GENDER'].apply(lambda x: 0 if x == 'F' else 1)\n",
    "test['CODE_GENDER'] = test['CODE_GENDER'].apply(lambda x: 0 if x == 'F' else 1)"
   ]
  },
  {
   "cell_type": "code",
   "execution_count": null,
   "metadata": {},
   "outputs": [],
   "source": [
    "# FLAG_OWN_CAR\n",
    "train['FLAG_OWN_CAR'] = train['FLAG_OWN_CAR'].apply(lambda x: 1 if x == 'Y' else 0)\n",
    "test['FLAG_OWN_CAR'] = test['FLAG_OWN_CAR'].apply(lambda x: 1 if x == 'Y' else 1)"
   ]
  },
  {
   "cell_type": "code",
   "execution_count": null,
   "metadata": {},
   "outputs": [],
   "source": [
    "# FLAG_OWN_REALTY\n",
    "train['FLAG_OWN_REALTY'] = train['FLAG_OWN_REALTY'].apply(lambda x: 1 if x == 'Y' else 0)\n",
    "test['FLAG_OWN_REALTY'] = test['FLAG_OWN_REALTY'].apply(lambda x: 1 if x == 'Y' else 1)"
   ]
  },
  {
   "cell_type": "code",
   "execution_count": null,
   "metadata": {},
   "outputs": [],
   "source": [
    "# where null it should be dropped or mean or average income/annuity\n",
    "\n",
    "avgAnnuityRate = (train['AMT_ANNUITY']/train['AMT_CREDIT']).mean()\n",
    "train['AMT_ANNUITY'].fillna(avgAnnuityRate * train['AMT_CREDIT'],inplace=True)\n",
    "test['AMT_ANNUITY'].fillna(avgAnnuityRate * train['AMT_CREDIT'],inplace=True)\n"
   ]
  },
  {
   "cell_type": "code",
   "execution_count": null,
   "metadata": {},
   "outputs": [],
   "source": [
    "#  where null mean or average income / goods price\n",
    "goodsPriceMean = train['AMT_GOODS_PRICE'].mean()\n",
    "train['AMT_GOODS_PRICE'].fillna(goodsPriceMean,inplace=True)\n",
    "test['AMT_GOODS_PRICE'].fillna(goodsPriceMean,inplace=True)"
   ]
  },
  {
   "cell_type": "code",
   "execution_count": null,
   "metadata": {},
   "outputs": [],
   "source": [
    "#  categorical, dummify, where null either unknown or most frequent\n",
    "train['NAME_TYPE_SUITE'].fillna('Unaccompanied',inplace=True)\n",
    "test['NAME_TYPE_SUITE'].fillna('Unaccompanied',inplace=True)"
   ]
  },
  {
   "cell_type": "raw",
   "metadata": {},
   "source": [
    "# numeric\n",
    "train['REGION_POPULATION_RELATIVE'].hist()"
   ]
  },
  {
   "cell_type": "raw",
   "metadata": {},
   "source": [
    "# TODO: negative, numeric\n",
    "train['DAYS_BIRTH'].hist()"
   ]
  },
  {
   "cell_type": "raw",
   "metadata": {},
   "source": [
    "# TODO: negative, numeric\n",
    "train['DAYS_EMPLOYED'].head()"
   ]
  },
  {
   "cell_type": "raw",
   "metadata": {},
   "source": [
    "# TODO: negative, numeric\n",
    "train['DAYS_REGISTRATION'].head()"
   ]
  },
  {
   "cell_type": "raw",
   "metadata": {},
   "source": [
    "# TODO: negative, numeric\n",
    "train['DAYS_ID_PUBLISH'].head()"
   ]
  },
  {
   "cell_type": "code",
   "execution_count": null,
   "metadata": {},
   "outputs": [],
   "source": [
    "# numeric, the older the worse, where null check own car\n",
    "train['OWN_CAR_AGE'].fillna(100,inplace=True)\n",
    "test['OWN_CAR_AGE'].fillna(100,inplace=True)\n",
    "train['OWN_CAR_AGE'] = train['OWN_CAR_AGE'] * -1\n",
    "test['OWN_CAR_AGE'] = test['OWN_CAR_AGE'] * -1\n",
    "train['OWN_CAR_AGE'].describe()"
   ]
  },
  {
   "cell_type": "code",
   "execution_count": null,
   "metadata": {},
   "outputs": [],
   "source": [
    "# numeric, drop where it is null\n",
    "train = train[train['CNT_FAM_MEMBERS'] > 0]\n",
    "test = test[test['CNT_FAM_MEMBERS'] > 0]"
   ]
  },
  {
   "cell_type": "raw",
   "metadata": {},
   "source": [
    "#,inplace=True\n"
   ]
  },
  {
   "cell_type": "code",
   "execution_count": null,
   "metadata": {},
   "outputs": [],
   "source": [
    "# fill null with mean for _1, _2, _3\n",
    "mean1 = train['EXT_SOURCE_1'].mean()\n",
    "mean2 = train['EXT_SOURCE_2'].mean()\n",
    "mean3 = train['EXT_SOURCE_3'].mean()\n",
    "train['EXT_SOURCE_1'].fillna(mean1,inplace=True)\n",
    "train['EXT_SOURCE_2'].fillna(mean2,inplace=True)\n",
    "train['EXT_SOURCE_3'].fillna(mean3,inplace=True)\n",
    "test['EXT_SOURCE_1'].fillna(mean1,inplace=True)\n",
    "test['EXT_SOURCE_2'].fillna(mean2,inplace=True)\n",
    "test['EXT_SOURCE_3'].fillna(mean3,inplace=True)\n"
   ]
  },
  {
   "cell_type": "code",
   "execution_count": null,
   "metadata": {},
   "outputs": [],
   "source": [
    "# fill with mean all _AVG, _MEDI, _MODE\n",
    "for col in train.columns.tolist():\n",
    "    if (col.endswith('_AVG') or col.endswith('_MEDI') or col.endswith('_MODE')) and col not in ['FONDKAPREMONT_MODE','HOUSETYPE_MODE',\n",
    "                    'WALLSMATERIAL_MODE','EMERGENCYSTATE_MODE']: \n",
    "        #print (col)\n",
    "        mean = train[col].mean()\n",
    "        train[col].fillna(mean,inplace=True)\n",
    "        test[col].fillna(mean,inplace=True)\n",
    "        "
   ]
  },
  {
   "cell_type": "code",
   "execution_count": null,
   "metadata": {},
   "outputs": [],
   "source": [
    "# EMERGENCYSTATE_MODE\n",
    "train['EMERGENCYSTATE_MODE'] = train['EMERGENCYSTATE_MODE'].apply(lambda x: 1 if x == 'Y' else 0)\n",
    "test['EMERGENCYSTATE_MODE'] = test['EMERGENCYSTATE_MODE'].apply(lambda x: 1 if x == 'Y' else 1)\n"
   ]
  },
  {
   "cell_type": "raw",
   "metadata": {},
   "source": [
    "train[].value_counts()"
   ]
  },
  {
   "cell_type": "code",
   "execution_count": null,
   "metadata": {},
   "outputs": [],
   "source": [
    "#  Fill none with mean or median for all circle\n",
    "for col in train.columns.tolist():\n",
    "    if col.endswith('_CIRCLE'):\n",
    "        mean = train[col].mean()\n",
    "        train[col].fillna(mean,inplace=True)\n",
    "        test[col].fillna(mean,inplace=True)\n"
   ]
  },
  {
   "cell_type": "code",
   "execution_count": null,
   "metadata": {},
   "outputs": [],
   "source": [
    "# negative numeric, drop where it is null\n",
    "train['DAYS_LAST_PHONE_CHANGE'].fillna(0,inplace=True)\n",
    "test['DAYS_LAST_PHONE_CHANGE'].fillna(0,inplace=True)\n"
   ]
  },
  {
   "cell_type": "code",
   "execution_count": null,
   "metadata": {},
   "outputs": [],
   "source": [
    "# all amt_credit req, maybe bin it\n",
    "train['AMT_REQ_CREDIT_BUREAU_YEAR'].mean()\n",
    "\n",
    "for col in train.columns.tolist():\n",
    "    if 'AMT_REQ_CREDIT_BUREAU_' in col:\n",
    "        #print (col)\n",
    "        mean = train[col].mean()\n",
    "        train[col].fillna(mean,inplace=True)\n",
    "        test[col].fillna(mean,inplace=True)\n"
   ]
  },
  {
   "cell_type": "code",
   "execution_count": null,
   "metadata": {},
   "outputs": [],
   "source": [
    "gc.collect()"
   ]
  },
  {
   "cell_type": "raw",
   "metadata": {},
   "source": [
    "train.isnull().sum()"
   ]
  },
  {
   "cell_type": "code",
   "execution_count": null,
   "metadata": {},
   "outputs": [],
   "source": [
    "train_objs_num = len(train)\n",
    "dataset = pd.concat(objs=[train, test], axis=0)\n",
    "dataset = pd.get_dummies(dataset, \n",
    "    columns = ['NAME_TYPE_SUITE','NAME_INCOME_TYPE','NAME_EDUCATION_TYPE','NAME_FAMILY_STATUS','NAME_HOUSING_TYPE',\n",
    "            'OCCUPATION_TYPE','WEEKDAY_APPR_PROCESS_START','ORGANIZATION_TYPE','FONDKAPREMONT_MODE',\n",
    "            'HOUSETYPE_MODE','WALLSMATERIAL_MODE'],prefix_sep='__')\n",
    "train = dataset[:train_objs_num]\n",
    "test = dataset[train_objs_num:]\n",
    "train.shape"
   ]
  },
  {
   "cell_type": "code",
   "execution_count": null,
   "metadata": {},
   "outputs": [],
   "source": [
    "from sklearn.model_selection import train_test_split\n",
    "\n",
    "X = train.drop(['SK_ID_CURR','TARGET'], axis=1)\n",
    "y = train['TARGET']\n",
    "\n",
    "X_train, X_test, y_train, y_test = train_test_split(X, y, test_size=0.2)"
   ]
  },
  {
   "cell_type": "code",
   "execution_count": null,
   "metadata": {},
   "outputs": [],
   "source": [
    "from sklearn.linear_model import LogisticRegression\n",
    "from sklearn.neighbors import KNeighborsClassifier\n",
    "from sklearn.tree import DecisionTreeClassifier\n",
    "from sklearn.ensemble import RandomForestClassifier\n",
    "from sklearn.model_selection import GridSearchCV\n",
    "\n",
    "def get_best_model_and_accuracy(model, params, X, y):\n",
    "    grid = GridSearchCV(model, # the model to grid search\n",
    "                        params, # the parameter set to try \n",
    "                        error_score=0.) # if a parameter set raises an error, continue and set the performance as a big, fat 0\n",
    "    grid.fit(X, y) # fit the model and parameters\n",
    "    # our classical metric for performance\n",
    "    print (\"Best Accuracy: {}\".format(grid.best_score_))\n",
    "    # the best parameters that caused the best accuracy\n",
    "    print (\"Best Parameters: {}\".format(grid.best_params_))\n",
    "    # the average time it took a model to fit to the data (in seconds)\n",
    "    print (\"Average Time to Fit (s): {}\".format(round(grid.cv_results_['mean_fit_time'].mean(), 3)))\n",
    "    # the average time it took a model to predict out of sample data (in seconds)\n",
    "    # this metric gives us insight into how this model will perform in real-time analysis\n",
    "    print (\"Average Time to Score (s): {}\".format(round(grid.cv_results_['mean_score_time'].mean(), 3)))\n",
    "\n",
    "# Logistic Regression\n",
    "lr_params = {'C':[1e-1, 1e0, 1e1, 1e2], 'penalty':['l1', 'l2']}\n",
    "\n",
    "# KNN\n",
    "knn_params = {'n_neighbors': [1, 3, 5, 7]}\n",
    "\n",
    "# Decision Tree\n",
    "tree_params = {'max_depth':[None, 1, 3, 5, 7]}\n",
    "\n",
    "# Random Forest\n",
    "forest_params = {'n_estimators': [10, 50, 100], 'max_depth': [None, 1, 3, 5, 7]}\n",
    "\n",
    "lr = LogisticRegression()\n",
    "knn = KNeighborsClassifier()\n",
    "d_tree = DecisionTreeClassifier()\n",
    "forest = RandomForestClassifier()\n",
    "\n",
    "get_best_model_and_accuracy(lr, lr_params, X, y)\n",
    "#get_best_model_and_accuracy(knn, knn_params, X, y)\n",
    "#get_best_model_and_accuracy(d_tree, tree_params, X, y)\n",
    "#get_best_model_and_accuracy(forest, forest_params, X, y)"
   ]
  },
  {
   "cell_type": "raw",
   "metadata": {},
   "source": [
    "g = sns.regplot(x=train['AMT_ANNUITY'], y=train['TARGET'], fit_reg=False).set_title(\"After\")"
   ]
  }
 ],
 "metadata": {
  "kernelspec": {
   "display_name": "Python 3",
   "language": "python",
   "name": "python3"
  },
  "language_info": {
   "codemirror_mode": {
    "name": "ipython",
    "version": 3
   },
   "file_extension": ".py",
   "mimetype": "text/x-python",
   "name": "python",
   "nbconvert_exporter": "python",
   "pygments_lexer": "ipython3",
   "version": "3.6.4"
  }
 },
 "nbformat": 4,
 "nbformat_minor": 2
}
