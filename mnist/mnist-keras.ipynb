{
 "cells": [
  {
   "cell_type": "code",
   "execution_count": 52,
   "metadata": {},
   "outputs": [],
   "source": [
    "import pandas as pd\n",
    "import numpy as np\n",
    "import csv\n",
    "\n",
    "import keras\n",
    "from keras import backend as K\n",
    "from keras.models import Sequential\n",
    "from keras.layers import Activation\n",
    "from keras.layers.core import Dense, Flatten\n",
    "from keras.optimizers import Adam\n",
    "from keras.metrics import categorical_crossentropy\n",
    "from keras.preprocessing.image import ImageDataGenerator\n",
    "from keras.layers.normalization import BatchNormalization\n",
    "from keras.layers.convolutional import *\n",
    "from keras.utils.np_utils import to_categorical\n",
    "from sklearn.metrics import confusion_matrix\n",
    "from sklearn.model_selection import train_test_split\n",
    "import itertools\n",
    "import matplotlib.pyplot as plt\n",
    "%matplotlib inline\n",
    "\n",
    "root = '/Users/schwalmdaniel/github/kaggle/mnist'\n",
    "#root = 'd:/dev/python/kaggle/titanic'\n",
    "\n",
    "train=pd.read_csv(root + \"/train.csv\")\n",
    "test=pd.read_csv(root + \"/test.csv\")\n",
    "\n"
   ]
  },
  {
   "cell_type": "code",
   "execution_count": 53,
   "metadata": {},
   "outputs": [
    {
     "name": "stdout",
     "output_type": "stream",
     "text": [
      "learning from 42000 rows\n"
     ]
    }
   ],
   "source": [
    "X = train.drop(['label'], axis=1)\n",
    "# create our feature matrix by removing the response variable\n",
    "print (\"learning from {} rows\".format(X.shape[0]))\n",
    "y = train['label']"
   ]
  },
  {
   "cell_type": "code",
   "execution_count": 54,
   "metadata": {},
   "outputs": [],
   "source": [
    "# Normalize the data. Each pixel comes with a value between 0-255. CNN works better with values between 0-1.\n",
    "X /= 255.0\n",
    "test /= 255.0"
   ]
  },
  {
   "cell_type": "code",
   "execution_count": 55,
   "metadata": {},
   "outputs": [],
   "source": [
    "# Reshape image in 3 dimensions (height = 28px, width = 28px , canal = 1)\n",
    "X = X.values.reshape(-1,28,28,1)\n",
    "test = test.values.reshape(-1,28,28,1)\n"
   ]
  },
  {
   "cell_type": "code",
   "execution_count": 56,
   "metadata": {},
   "outputs": [],
   "source": [
    "# Encode labels to one hot vectors (ex : 2 -> [0,0,1,0,0,0,0,0,0,0])\n",
    "y = to_categorical(y, num_classes = 10)"
   ]
  },
  {
   "cell_type": "code",
   "execution_count": 57,
   "metadata": {},
   "outputs": [
    {
     "name": "stdout",
     "output_type": "stream",
     "text": [
      "Epoch 1/15\n",
      " - 109s - loss: 1.0020 - acc: 0.6910 - val_loss: 0.2246 - val_acc: 0.9433\n",
      "Epoch 2/15\n",
      " - 98s - loss: 0.3605 - acc: 0.8965 - val_loss: 0.1580 - val_acc: 0.9579\n",
      "Epoch 3/15\n",
      " - 91s - loss: 0.2798 - acc: 0.9176 - val_loss: 0.1352 - val_acc: 0.9633\n",
      "Epoch 4/15\n",
      " - 91s - loss: 0.2458 - acc: 0.9289 - val_loss: 0.1153 - val_acc: 0.9700\n",
      "Epoch 5/15\n",
      " - 91s - loss: 0.2176 - acc: 0.9377 - val_loss: 0.1100 - val_acc: 0.9712\n",
      "Epoch 6/15\n",
      " - 90s - loss: 0.2025 - acc: 0.9419 - val_loss: 0.1017 - val_acc: 0.9724\n",
      "Epoch 7/15\n",
      " - 91s - loss: 0.1802 - acc: 0.9483 - val_loss: 0.0972 - val_acc: 0.9745\n",
      "Epoch 8/15\n",
      " - 91s - loss: 0.1725 - acc: 0.9513 - val_loss: 0.0884 - val_acc: 0.9748\n",
      "Epoch 9/15\n",
      " - 881s - loss: 0.1586 - acc: 0.9556 - val_loss: 0.0928 - val_acc: 0.9738\n",
      "Epoch 10/15\n",
      " - 97s - loss: 0.1518 - acc: 0.9564 - val_loss: 0.0807 - val_acc: 0.9776\n",
      "Epoch 11/15\n",
      " - 92s - loss: 0.1444 - acc: 0.9582 - val_loss: 0.0867 - val_acc: 0.9738\n",
      "Epoch 12/15\n",
      " - 91s - loss: 0.1377 - acc: 0.9595 - val_loss: 0.0795 - val_acc: 0.9767\n",
      "Epoch 13/15\n",
      " - 92s - loss: 0.1291 - acc: 0.9624 - val_loss: 0.0765 - val_acc: 0.9783\n",
      "Epoch 14/15\n",
      " - 93s - loss: 0.1244 - acc: 0.9649 - val_loss: 0.0747 - val_acc: 0.9774\n",
      "Epoch 15/15\n",
      " - 108s - loss: 0.1230 - acc: 0.9649 - val_loss: 0.0680 - val_acc: 0.9795\n"
     ]
    }
   ],
   "source": [
    "model = Sequential()\n",
    "\n",
    "model.add(Conv2D(filters = 32, kernel_size = (5,5),activation ='relu',input_shape = (28,28,1)))\n",
    "model.add(Conv2D(filters = 32, kernel_size = (5,5),activation ='relu'))\n",
    "model.add(Flatten())\n",
    "model.add(Dense(10, activation = \"softmax\"))\n",
    "\n",
    "model.compile(Adam(lr=.0001), loss = \"categorical_crossentropy\", metrics=[\"accuracy\"])\n",
    "\n",
    "#history = model.fit(X, y, batch_size = 100, epochs = 10, validation_split=0.1,verbose = 2)\n",
    "\n",
    "datagen = ImageDataGenerator(\n",
    "        featurewise_center=False,  # set input mean to 0 over the dataset\n",
    "        samplewise_center=False,  # set each sample mean to 0\n",
    "        featurewise_std_normalization=False,  # divide inputs by std of the dataset\n",
    "        samplewise_std_normalization=False,  # divide each input by its std\n",
    "        zca_whitening=False,  # apply ZCA whitening\n",
    "        rotation_range=10,  # randomly rotate images in the range (degrees, 0 to 180)\n",
    "        zoom_range = 0.1, # Randomly zoom image \n",
    "        width_shift_range=0.1,  # randomly shift images horizontally (fraction of total width)\n",
    "        height_shift_range=0.1,  # randomly shift images vertically (fraction of total height)\n",
    "        horizontal_flip=False,  # randomly flip images\n",
    "        vertical_flip=False)  # randomly flip images\n",
    "\n",
    "X_train, X_val, Y_train, Y_val = train_test_split(X, y, test_size = 0.1)\n",
    "\n",
    "datagen.fit(X_train)\n",
    "\n",
    "\n",
    "\n",
    "history = model.fit_generator(datagen.flow(X_train,Y_train, batch_size=100),epochs = 15, validation_data=(X_val,Y_val),\n",
    "                              verbose = 2, steps_per_epoch=X_train.shape[0] // 100)"
   ]
  },
  {
   "cell_type": "code",
   "execution_count": 58,
   "metadata": {},
   "outputs": [],
   "source": [
    "preds = model.predict_classes(test,batch_size=100,verbose=2)"
   ]
  },
  {
   "cell_type": "code",
   "execution_count": 59,
   "metadata": {},
   "outputs": [
    {
     "data": {
      "text/html": [
       "<div>\n",
       "<style scoped>\n",
       "    .dataframe tbody tr th:only-of-type {\n",
       "        vertical-align: middle;\n",
       "    }\n",
       "\n",
       "    .dataframe tbody tr th {\n",
       "        vertical-align: top;\n",
       "    }\n",
       "\n",
       "    .dataframe thead th {\n",
       "        text-align: right;\n",
       "    }\n",
       "</style>\n",
       "<table border=\"1\" class=\"dataframe\">\n",
       "  <thead>\n",
       "    <tr style=\"text-align: right;\">\n",
       "      <th></th>\n",
       "      <th>ImageId</th>\n",
       "      <th>Label</th>\n",
       "    </tr>\n",
       "  </thead>\n",
       "  <tbody>\n",
       "    <tr>\n",
       "      <th>0</th>\n",
       "      <td>1</td>\n",
       "      <td>2</td>\n",
       "    </tr>\n",
       "    <tr>\n",
       "      <th>1</th>\n",
       "      <td>2</td>\n",
       "      <td>0</td>\n",
       "    </tr>\n",
       "    <tr>\n",
       "      <th>2</th>\n",
       "      <td>3</td>\n",
       "      <td>9</td>\n",
       "    </tr>\n",
       "    <tr>\n",
       "      <th>3</th>\n",
       "      <td>4</td>\n",
       "      <td>0</td>\n",
       "    </tr>\n",
       "    <tr>\n",
       "      <th>4</th>\n",
       "      <td>5</td>\n",
       "      <td>3</td>\n",
       "    </tr>\n",
       "  </tbody>\n",
       "</table>\n",
       "</div>"
      ],
      "text/plain": [
       "   ImageId  Label\n",
       "0        1      2\n",
       "1        2      0\n",
       "2        3      9\n",
       "3        4      0\n",
       "4        5      3"
      ]
     },
     "execution_count": 59,
     "metadata": {},
     "output_type": "execute_result"
    }
   ],
   "source": [
    "test=pd.read_csv(root + \"/test.csv\")\n",
    "\n",
    "predicted = pd.DataFrame()\n",
    "predicted['ImageId'] = test.index + 1\n",
    "predicted['Label'] = preds\n",
    "predicted[['ImageId', 'Label']] = predicted[['ImageId', 'Label']].astype(int)\n",
    "predicted.to_csv(root + '/submission_keras.csv', index=False,quoting=csv.QUOTE_NONNUMERIC)\n",
    "\n",
    "predicted.head()"
   ]
  }
 ],
 "metadata": {
  "kernelspec": {
   "display_name": "Python 3",
   "language": "python",
   "name": "python3"
  },
  "language_info": {
   "codemirror_mode": {
    "name": "ipython",
    "version": 3
   },
   "file_extension": ".py",
   "mimetype": "text/x-python",
   "name": "python",
   "nbconvert_exporter": "python",
   "pygments_lexer": "ipython3",
   "version": "3.6.4"
  }
 },
 "nbformat": 4,
 "nbformat_minor": 2
}
