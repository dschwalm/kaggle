{
 "cells": [
  {
   "cell_type": "code",
   "execution_count": 178,
   "metadata": {
    "scrolled": true
   },
   "outputs": [
    {
     "data": {
      "text/html": [
       "<div>\n",
       "<style scoped>\n",
       "    .dataframe tbody tr th:only-of-type {\n",
       "        vertical-align: middle;\n",
       "    }\n",
       "\n",
       "    .dataframe tbody tr th {\n",
       "        vertical-align: top;\n",
       "    }\n",
       "\n",
       "    .dataframe thead th {\n",
       "        text-align: right;\n",
       "    }\n",
       "</style>\n",
       "<table border=\"1\" class=\"dataframe\">\n",
       "  <thead>\n",
       "    <tr style=\"text-align: right;\">\n",
       "      <th></th>\n",
       "      <th>Id</th>\n",
       "      <th>MSSubClass</th>\n",
       "      <th>MSZoning</th>\n",
       "      <th>LotFrontage</th>\n",
       "      <th>LotArea</th>\n",
       "      <th>Street</th>\n",
       "      <th>Alley</th>\n",
       "      <th>LotShape</th>\n",
       "      <th>LandContour</th>\n",
       "      <th>Utilities</th>\n",
       "      <th>...</th>\n",
       "      <th>PoolArea</th>\n",
       "      <th>PoolQC</th>\n",
       "      <th>Fence</th>\n",
       "      <th>MiscFeature</th>\n",
       "      <th>MiscVal</th>\n",
       "      <th>MoSold</th>\n",
       "      <th>YrSold</th>\n",
       "      <th>SaleType</th>\n",
       "      <th>SaleCondition</th>\n",
       "      <th>SalePrice</th>\n",
       "    </tr>\n",
       "  </thead>\n",
       "  <tbody>\n",
       "    <tr>\n",
       "      <th>0</th>\n",
       "      <td>1</td>\n",
       "      <td>60</td>\n",
       "      <td>RL</td>\n",
       "      <td>65.0</td>\n",
       "      <td>8450</td>\n",
       "      <td>Pave</td>\n",
       "      <td>NaN</td>\n",
       "      <td>Reg</td>\n",
       "      <td>Lvl</td>\n",
       "      <td>AllPub</td>\n",
       "      <td>...</td>\n",
       "      <td>0</td>\n",
       "      <td>NaN</td>\n",
       "      <td>NaN</td>\n",
       "      <td>NaN</td>\n",
       "      <td>0</td>\n",
       "      <td>2</td>\n",
       "      <td>2008</td>\n",
       "      <td>WD</td>\n",
       "      <td>Normal</td>\n",
       "      <td>208500</td>\n",
       "    </tr>\n",
       "    <tr>\n",
       "      <th>1</th>\n",
       "      <td>2</td>\n",
       "      <td>20</td>\n",
       "      <td>RL</td>\n",
       "      <td>80.0</td>\n",
       "      <td>9600</td>\n",
       "      <td>Pave</td>\n",
       "      <td>NaN</td>\n",
       "      <td>Reg</td>\n",
       "      <td>Lvl</td>\n",
       "      <td>AllPub</td>\n",
       "      <td>...</td>\n",
       "      <td>0</td>\n",
       "      <td>NaN</td>\n",
       "      <td>NaN</td>\n",
       "      <td>NaN</td>\n",
       "      <td>0</td>\n",
       "      <td>5</td>\n",
       "      <td>2007</td>\n",
       "      <td>WD</td>\n",
       "      <td>Normal</td>\n",
       "      <td>181500</td>\n",
       "    </tr>\n",
       "    <tr>\n",
       "      <th>2</th>\n",
       "      <td>3</td>\n",
       "      <td>60</td>\n",
       "      <td>RL</td>\n",
       "      <td>68.0</td>\n",
       "      <td>11250</td>\n",
       "      <td>Pave</td>\n",
       "      <td>NaN</td>\n",
       "      <td>IR1</td>\n",
       "      <td>Lvl</td>\n",
       "      <td>AllPub</td>\n",
       "      <td>...</td>\n",
       "      <td>0</td>\n",
       "      <td>NaN</td>\n",
       "      <td>NaN</td>\n",
       "      <td>NaN</td>\n",
       "      <td>0</td>\n",
       "      <td>9</td>\n",
       "      <td>2008</td>\n",
       "      <td>WD</td>\n",
       "      <td>Normal</td>\n",
       "      <td>223500</td>\n",
       "    </tr>\n",
       "    <tr>\n",
       "      <th>3</th>\n",
       "      <td>4</td>\n",
       "      <td>70</td>\n",
       "      <td>RL</td>\n",
       "      <td>60.0</td>\n",
       "      <td>9550</td>\n",
       "      <td>Pave</td>\n",
       "      <td>NaN</td>\n",
       "      <td>IR1</td>\n",
       "      <td>Lvl</td>\n",
       "      <td>AllPub</td>\n",
       "      <td>...</td>\n",
       "      <td>0</td>\n",
       "      <td>NaN</td>\n",
       "      <td>NaN</td>\n",
       "      <td>NaN</td>\n",
       "      <td>0</td>\n",
       "      <td>2</td>\n",
       "      <td>2006</td>\n",
       "      <td>WD</td>\n",
       "      <td>Abnorml</td>\n",
       "      <td>140000</td>\n",
       "    </tr>\n",
       "    <tr>\n",
       "      <th>4</th>\n",
       "      <td>5</td>\n",
       "      <td>60</td>\n",
       "      <td>RL</td>\n",
       "      <td>84.0</td>\n",
       "      <td>14260</td>\n",
       "      <td>Pave</td>\n",
       "      <td>NaN</td>\n",
       "      <td>IR1</td>\n",
       "      <td>Lvl</td>\n",
       "      <td>AllPub</td>\n",
       "      <td>...</td>\n",
       "      <td>0</td>\n",
       "      <td>NaN</td>\n",
       "      <td>NaN</td>\n",
       "      <td>NaN</td>\n",
       "      <td>0</td>\n",
       "      <td>12</td>\n",
       "      <td>2008</td>\n",
       "      <td>WD</td>\n",
       "      <td>Normal</td>\n",
       "      <td>250000</td>\n",
       "    </tr>\n",
       "  </tbody>\n",
       "</table>\n",
       "<p>5 rows × 81 columns</p>\n",
       "</div>"
      ],
      "text/plain": [
       "   Id  MSSubClass MSZoning  LotFrontage  LotArea Street Alley LotShape  \\\n",
       "0   1          60       RL         65.0     8450   Pave   NaN      Reg   \n",
       "1   2          20       RL         80.0     9600   Pave   NaN      Reg   \n",
       "2   3          60       RL         68.0    11250   Pave   NaN      IR1   \n",
       "3   4          70       RL         60.0     9550   Pave   NaN      IR1   \n",
       "4   5          60       RL         84.0    14260   Pave   NaN      IR1   \n",
       "\n",
       "  LandContour Utilities    ...     PoolArea PoolQC Fence MiscFeature MiscVal  \\\n",
       "0         Lvl    AllPub    ...            0    NaN   NaN         NaN       0   \n",
       "1         Lvl    AllPub    ...            0    NaN   NaN         NaN       0   \n",
       "2         Lvl    AllPub    ...            0    NaN   NaN         NaN       0   \n",
       "3         Lvl    AllPub    ...            0    NaN   NaN         NaN       0   \n",
       "4         Lvl    AllPub    ...            0    NaN   NaN         NaN       0   \n",
       "\n",
       "  MoSold YrSold  SaleType  SaleCondition  SalePrice  \n",
       "0      2   2008        WD         Normal     208500  \n",
       "1      5   2007        WD         Normal     181500  \n",
       "2      9   2008        WD         Normal     223500  \n",
       "3      2   2006        WD        Abnorml     140000  \n",
       "4     12   2008        WD         Normal     250000  \n",
       "\n",
       "[5 rows x 81 columns]"
      ]
     },
     "execution_count": 178,
     "metadata": {},
     "output_type": "execute_result"
    }
   ],
   "source": [
    "import pandas as pd\n",
    "import numpy as np\n",
    "import matplotlib as mp\n",
    "import seaborn as sns\n",
    "import csv\n",
    "import re\n",
    "import sys, os, random\n",
    "\n",
    "from sklearn.linear_model import LinearRegression\n",
    "from sklearn.pipeline import Pipeline\n",
    "from sklearn.preprocessing import Imputer\n",
    "from sklearn.preprocessing import StandardScaler\n",
    "from sklearn.preprocessing import MinMaxScaler\n",
    "from sklearn.preprocessing import Normalizer\n",
    "from sklearn.preprocessing import PolynomialFeatures\n",
    "\n",
    "sys.path.insert(0, \"/Users/schwalmdaniel/github/xgboost/python-package\")\n",
    "from xgboost import XGBRegressor\n",
    "\n",
    "from sklearn.model_selection import KFold, cross_val_score, train_test_split\n",
    "from sklearn.metrics import mean_squared_error\n",
    "\n",
    "%matplotlib inline\n",
    "\n",
    "# reproducible results\n",
    "os.environ['PYTHONHASHSEED'] = '0'\n",
    "np.random.seed(37)\n",
    "random.seed(17)\n",
    "\n",
    "pd.set_option('display.max_rows',1000)\n",
    "\n",
    "def rmse_cv(model, train,y):\n",
    "    n_folds = 5\n",
    "    kf = KFold(n_folds, shuffle=True, random_state=42).get_n_splits(train.values)\n",
    "    rmse= np.sqrt(-cross_val_score(model, train.values, y, scoring=\"neg_mean_squared_log_error\", cv = kf))\n",
    "    return(rmse)\n",
    "\n",
    "root = '/Users/schwalmdaniel/github/kaggle/house_prices_kaggle'\n",
    "#root = 'd:/dev/python/kaggle/titanic'\n",
    "\n",
    "train=pd.read_csv(root + \"/train.csv\")\n",
    "test=pd.read_csv(root + \"/test.csv\")\n",
    "\n",
    "# have a look at the ds\n",
    "train.head()"
   ]
  },
  {
   "cell_type": "raw",
   "metadata": {},
   "source": [
    "str(train.columns.tolist())"
   ]
  },
  {
   "cell_type": "raw",
   "metadata": {},
   "source": [
    "train.shape"
   ]
  },
  {
   "cell_type": "code",
   "execution_count": 179,
   "metadata": {},
   "outputs": [],
   "source": [
    "def convertToOrdinal(df,colname,mapping,targetDf,targetColname,dropOriginalCol = True):\n",
    "    mostFrequent = df[colname].value_counts().index[0]\n",
    "    df[colname].fillna(mostFrequent,inplace=True)\n",
    "    targetDf[targetColname] = df[colname].apply(lambda x: mapping[x])\n",
    "    if dropOriginalCol:\n",
    "        targetDf = df.drop([colname],axis=1) \n",
    "        \n",
    "five_scale = {'Ex': 5,'Gd': 4,'TA':3,'Fa':2,'Po':1}\n",
    "LandSlope_scale= {'Gtl': 3,'Mod': 2,'Sev':1}\n",
    "Functional_scale = {'Typ':8,'Min1':7,'Min2':6, 'Mod':5,'Maj1':4,'Maj2':3,'Sev':2,'Sal':1}"
   ]
  },
  {
   "cell_type": "raw",
   "metadata": {},
   "source": [
    "convertToOrdinal(train,'BsmtQual',five_scale,train,'BsmtQualOrdinal')\n",
    "convertToOrdinal(test,'BsmtQual',five_scale,test,'BsmtQualOrdinal')"
   ]
  },
  {
   "cell_type": "code",
   "execution_count": 180,
   "metadata": {},
   "outputs": [],
   "source": [
    "\n",
    "\n",
    "\n",
    "convertToOrdinal(train,'BsmtQual',five_scale,train,'BsmtQualOrdinal')\n",
    "convertToOrdinal(test,'BsmtQual',five_scale,test,'BsmtQualOrdinal')\n",
    "convertToOrdinal(train,'BsmtCond',five_scale,train,'BsmtCondOrdinal')\n",
    "convertToOrdinal(test,'BsmtCond',five_scale,test,'BsmtCondOrdinal')\n",
    "\n",
    "convertToOrdinal(train,'ExterQual',five_scale,train,'ExterQualOrdinal')\n",
    "convertToOrdinal(test,'ExterQual',five_scale,test,'ExterQualOrdinal')\n",
    "convertToOrdinal(train,'ExterCond',five_scale,train,'ExterCondOrdinal')\n",
    "convertToOrdinal(test,'ExterCond',five_scale,test,'ExterCondOrdinal')\n",
    "\n",
    "convertToOrdinal(train,'KitchenQual',five_scale,train,'KitchenQualOrdinal')\n",
    "convertToOrdinal(test,'KitchenQual',five_scale,test,'KitchenQualOrdinal')\n",
    "\n",
    "convertToOrdinal(train,'LandSlope',LandSlope_scale,train,'LandSlopeOrdinal')\n",
    "convertToOrdinal(test,'LandSlope',LandSlope_scale,test,'LandSlopeOrdinal')\n",
    "\n",
    "convertToOrdinal(train,'Functional',Functional_scale,train,'FunctionalOrdinal')\n",
    "convertToOrdinal(test,'Functional',Functional_scale,test,'FunctionalOrdinal')\n",
    "\n"
   ]
  },
  {
   "cell_type": "code",
   "execution_count": 181,
   "metadata": {},
   "outputs": [
    {
     "data": {
      "text/plain": [
       "(1460, 299)"
      ]
     },
     "execution_count": 181,
     "metadata": {},
     "output_type": "execute_result"
    }
   ],
   "source": [
    "# to unify values to dummify in both train and test set, we concatenate them\n",
    "train_objs_num = len(train)\n",
    "dataset = pd.concat(objs=[train, test], axis=0)\n",
    "dataset = pd.get_dummies(dataset, columns = ['MSSubClass', 'MSZoning', 'Street','Alley','LotShape','LandContour','Utilities',\n",
    "                          'LotConfig','Neighborhood','Condition1','Condition2','BldgType','HouseStyle',\n",
    "                         'RoofStyle','RoofMatl','Exterior1st','Exterior2nd','MasVnrType',\n",
    "                         'Foundation','BsmtExposure','BsmtFinType1','BsmtFinType2','Heating',\n",
    "                         'HeatingQC','CentralAir','Electrical','FireplaceQu','GarageType',\n",
    "                         'GarageFinish','GarageQual','GarageCond','PavedDrive','PoolQC',\n",
    "                         'Fence','MiscFeature','MoSold','SaleType', 'SaleCondition'                 \n",
    "                         #,'BsmtQual','BsmtCond','ExterQual','ExterCond','KitchenQual' ,'LandSlope','Functional'                     \n",
    "                         ],  # which columns to dummify \n",
    "               prefix_sep='__')\n",
    "train = dataset[:train_objs_num]\n",
    "test = dataset[train_objs_num:]\n",
    "#'BsmtQual'\n",
    "train.shape\n"
   ]
  },
  {
   "cell_type": "raw",
   "metadata": {},
   "source": [
    "test.shape"
   ]
  },
  {
   "cell_type": "code",
   "execution_count": 182,
   "metadata": {},
   "outputs": [
    {
     "name": "stderr",
     "output_type": "stream",
     "text": [
      "/usr/local/lib/python3.6/site-packages/pandas/core/generic.py:4355: SettingWithCopyWarning: \n",
      "A value is trying to be set on a copy of a slice from a DataFrame\n",
      "\n",
      "See the caveats in the documentation: http://pandas.pydata.org/pandas-docs/stable/indexing.html#indexing-view-versus-copy\n",
      "  self._update_inplace(new_data)\n"
     ]
    }
   ],
   "source": [
    "train['GarageYrBlt'].fillna(0,inplace=True)\n",
    "test['GarageYrBlt'].fillna(0,inplace=True)\n",
    "train['GarageYrBlt'].fillna(0,inplace=True)\n",
    "test['GarageYrBlt'].fillna(0,inplace=True)\n",
    "train['MasVnrArea'].fillna(0,inplace=True)\n",
    "test['MasVnrArea'].fillna(0,inplace=True)\n",
    "train['LotFrontage'].fillna(train['LotFrontage'].mean(),inplace=True)\n",
    "test['LotFrontage'].fillna(train['LotFrontage'].mean(),inplace=True)\n",
    "train['BsmtFinSF1'].fillna(train['BsmtFinSF1'].mean(),inplace=True)\n",
    "test['BsmtFinSF1'].fillna(train['BsmtFinSF1'].mean(),inplace=True)"
   ]
  },
  {
   "cell_type": "code",
   "execution_count": 183,
   "metadata": {},
   "outputs": [],
   "source": [
    "X = train.drop(['Id','SalePrice','BsmtQual','BsmtCond','ExterQual','ExterCond','KitchenQual',\n",
    "                'LandSlope','Functional'],axis=1,errors='ignore') \n",
    "y = train['SalePrice']\n",
    "X_test = test.drop(['Id','SalePrice','BsmtQual','BsmtCond', 'ExterQual','ExterCond','KitchenQual',\n",
    "                'LandSlope','Functional'],axis=1,errors='ignore')"
   ]
  },
  {
   "cell_type": "raw",
   "metadata": {},
   "source": [
    "X_test.isnull().sum()"
   ]
  },
  {
   "cell_type": "raw",
   "metadata": {},
   "source": [
    "#pd.set_option('display.max_rows',1000)\n",
    "s = X.isnull().sum()\n",
    "s = s[s != 0]\n",
    "s"
   ]
  },
  {
   "cell_type": "code",
   "execution_count": 184,
   "metadata": {},
   "outputs": [],
   "source": [
    "def _get_xgb_feat_importances(clf, feature_names):\n",
    "\n",
    "        try:\n",
    "            # Handles case when clf has been created by calling\n",
    "            # xgb.XGBClassifier.fit() or xgb.XGBRegressor().fit()\n",
    "            fscore = clf.get_booster().get_fscore()\n",
    "        except:\n",
    "            # Handles case when clf has been created by calling xgb.train.\n",
    "            # Thus, clf is an instance of xgb.Booster.\n",
    "            fscore = clf.get_fscore()\n",
    "\n",
    "        trained_feature_names = feature_names #self._get_trained_feature_names()\n",
    "\n",
    "        feat_importances = []\n",
    "        \n",
    "        #print(fscore.items())\n",
    "\n",
    "        features = {}\n",
    "        \n",
    "        for k, v in fscore.items():\n",
    "            features[k] = v\n",
    "            \n",
    "        return sorted(features.items(), key=lambda x: x[1])[-50:]"
   ]
  },
  {
   "cell_type": "code",
   "execution_count": 186,
   "metadata": {},
   "outputs": [
    {
     "name": "stdout",
     "output_type": "stream",
     "text": [
      "\\pipeline score: 0.1230 (0.0100)\n",
      "\n"
     ]
    },
    {
     "data": {
      "text/html": [
       "<div>\n",
       "<style scoped>\n",
       "    .dataframe tbody tr th:only-of-type {\n",
       "        vertical-align: middle;\n",
       "    }\n",
       "\n",
       "    .dataframe tbody tr th {\n",
       "        vertical-align: top;\n",
       "    }\n",
       "\n",
       "    .dataframe thead th {\n",
       "        text-align: right;\n",
       "    }\n",
       "</style>\n",
       "<table border=\"1\" class=\"dataframe\">\n",
       "  <thead>\n",
       "    <tr style=\"text-align: right;\">\n",
       "      <th></th>\n",
       "      <th>Id</th>\n",
       "      <th>SalePrice</th>\n",
       "    </tr>\n",
       "  </thead>\n",
       "  <tbody>\n",
       "    <tr>\n",
       "      <th>0</th>\n",
       "      <td>1461</td>\n",
       "      <td>128431.789062</td>\n",
       "    </tr>\n",
       "    <tr>\n",
       "      <th>1</th>\n",
       "      <td>1462</td>\n",
       "      <td>166526.609375</td>\n",
       "    </tr>\n",
       "    <tr>\n",
       "      <th>2</th>\n",
       "      <td>1463</td>\n",
       "      <td>189956.453125</td>\n",
       "    </tr>\n",
       "    <tr>\n",
       "      <th>3</th>\n",
       "      <td>1464</td>\n",
       "      <td>191607.609375</td>\n",
       "    </tr>\n",
       "    <tr>\n",
       "      <th>4</th>\n",
       "      <td>1465</td>\n",
       "      <td>181430.312500</td>\n",
       "    </tr>\n",
       "  </tbody>\n",
       "</table>\n",
       "</div>"
      ],
      "text/plain": [
       "     Id      SalePrice\n",
       "0  1461  128431.789062\n",
       "1  1462  166526.609375\n",
       "2  1463  189956.453125\n",
       "3  1464  191607.609375\n",
       "4  1465  181430.312500"
      ]
     },
     "execution_count": 186,
     "metadata": {},
     "output_type": "execute_result"
    }
   ],
   "source": [
    "model = XGBRegressor(colsample_bytree=0.4603, gamma=0.0468, \n",
    "                             learning_rate=0.05, max_depth=3, \n",
    "                             min_child_weight=1.7817, n_estimators=2200,#2200,\n",
    "                             reg_alpha=0.4640, reg_lambda=0.8571,\n",
    "                             subsample=0.5213, silent=1,\n",
    "                             random_state =7, nthread = -1)\n",
    "\n",
    "#pipeline = Pipeline([('imputer', Imputer(strategy='mean')), ('classify', model)])\n",
    "pipeline = Pipeline([('classify', model)])\n",
    "pipeline.fit(X,y)\n",
    "score = rmse_cv(pipeline, X, y)\n",
    "print(\"\\pipeline score: {:.4f} ({:.4f})\\n\".format(score.mean(), score.std()))\n",
    "\n",
    "preds = pipeline.predict(X_test)\n",
    "\n",
    "predicted = pd.DataFrame()\n",
    "predicted['Id'] = test['Id']\n",
    "predicted['SalePrice'] = preds\n",
    "predicted[['Id', 'SalePrice']] = predicted[['Id', 'SalePrice']]\n",
    "predicted.to_csv(root + '/submission.csv', index=False,quoting=csv.QUOTE_NONNUMERIC)\n",
    "\n",
    "predicted.head()\n",
    "#last one: \\pipeline score: 0.1222 (0.0088) only basement quality ordinal\n",
    "#\\pipeline score: 0.1233 (0.0110) - exterqual, extercond ordinal\n"
   ]
  },
  {
   "cell_type": "raw",
   "metadata": {},
   "source": [
    "X.columns.tolist()"
   ]
  },
  {
   "cell_type": "raw",
   "metadata": {},
   "source": [
    "['OpenPorchSF__0: 0.0031', 'LotConfig__Inside: 0.0031', 'Condition1__Norm: 0.0032', 'GarageType__Attchd: 0.0032', 'Neighborhood__NridgHt: 0.0032', 'GarageFinish__RFn: 0.0033', 'WoodDeckSF__140: 0.0033', 'HalfBath: 0.0034', 'SaleCondition__Abnorml: 0.0034', 'Neighborhood__Crawfor: 0.0034', 'MoSold__7: 0.0034', 'LandContour__HLS: 0.0035', 'MoSold__10: 0.0036', 'BsmtExposure__No: 0.0036', 'WoodDeckSF__0: 0.0037', 'Neighborhood__StoneBr: 0.0038', 'LotShape__IR1: 0.0039', 'WoodDeckSF__143: 0.004', 'BsmtQual__Ex: 0.004', 'BsmtFinType1__GLQ: 0.004', 'BsmtExposure__Gd: 0.004', 'FullBath: 0.0041', 'SaleCondition__Normal: 0.0046', 'MoSold__12: 0.0048', 'BsmtFullBath: 0.005', 'SaleCondition__Family: 0.0052', 'GarageCars: 0.0059', 'Fireplaces: 0.0063', 'OpenPorchSF__33: 0.0064', 'ScreenPorch: 0.0066', 'BsmtFinSF2: 0.0066', 'BedroomAbvGr: 0.0078', 'EnclosedPorch: 0.0092', 'TotRmsAbvGrd: 0.0098', 'OverallCond: 0.0113', 'YrSold: 0.0132', 'OverallQual: 0.0162', 'YearRemodAdd: 0.0195', '2ndFlrSF: 0.023', 'YearBuilt: 0.024', 'GarageYrBlt: 0.0259', 'MasVnrArea: 0.0279', 'LotFrontage: 0.0309', 'TotalBsmtSF: 0.0407', 'BsmtFinSF1: 0.0434', 'GarageArea: 0.0441', '1stFlrSF: 0.0499', 'LotArea: 0.0514', 'GrLivArea: 0.052', 'BsmtUnfSF: 0.0541']\""
   ]
  },
  {
   "cell_type": "code",
   "execution_count": 187,
   "metadata": {},
   "outputs": [
    {
     "data": {
      "text/plain": [
       "\"[('BsmtExposure__No', 46), ('SaleType__WD', 46), ('ExterCondOrdinal', 46), ('GarageFinish__RFn', 46), ('LandSlopeOrdinal', 48), ('BsmtExposure__Av', 48), ('MasVnrType__BrkFace', 50), ('LandContour__HLS', 53), ('LotShape__Reg', 53), ('SaleType__New', 55), ('MoSold__7', 55), ('MoSold__10', 56), ('SaleCondition__Abnorml', 57), ('3SsnPorch', 58), ('Neighborhood__StoneBr', 59), ('BsmtExposure__Gd', 61), ('FunctionalOrdinal', 61), ('ExterQualOrdinal', 62), ('MoSold__12', 64), ('FullBath', 69), ('SaleCondition__Normal', 73), ('BsmtFullBath', 81), ('GarageCars', 82), ('Fireplaces', 83), ('BsmtFinSF2', 86), ('KitchenQualOrdinal', 90), ('SaleCondition__Family', 90), ('BsmtQualOrdinal', 98), ('ScreenPorch', 111), ('BedroomAbvGr', 131), ('EnclosedPorch', 146), ('OverallCond', 159), ('TotRmsAbvGrd', 160), ('YrSold', 172), ('OverallQual', 240), ('YearRemodAdd', 296), ('WoodDeckSF', 332), ('2ndFlrSF', 362), ('GarageYrBlt', 381), ('OpenPorchSF', 385), ('MasVnrArea', 387), ('YearBuilt', 388), ('LotFrontage', 518), ('BsmtFinSF1', 588), ('GarageArea', 609), ('TotalBsmtSF', 628), ('GrLivArea', 675), ('1stFlrSF', 731), ('LotArea', 766), ('BsmtUnfSF', 844)]\""
      ]
     },
     "execution_count": 187,
     "metadata": {},
     "output_type": "execute_result"
    }
   ],
   "source": [
    "str(list(_get_xgb_feat_importances(model, X.columns.tolist())))"
   ]
  },
  {
   "cell_type": "raw",
   "metadata": {},
   "source": [
    "lr = LinearRegression() \n",
    "pipeline = Pipeline([('imputer', Imputer(strategy='mean')), ('classify', lr)])\n",
    "\n",
    "pipeline.fit(X,y)\n",
    "preds = pipeline.predict(X_test)\n",
    "\n",
    "print (pipeline.score(X,y))\n",
    "\n",
    "predicted = pd.DataFrame()\n",
    "predicted['Id'] = test['Id']\n",
    "predicted['SalePrice'] = preds\n",
    "predicted[['Id', 'SalePrice']] = predicted[['Id', 'SalePrice']].astype(int)\n",
    "predicted.to_csv(root + '/submission.csv', index=False,quoting=csv.QUOTE_NONNUMERIC)\n",
    "\n",
    "predicted.head()"
   ]
  },
  {
   "cell_type": "code",
   "execution_count": null,
   "metadata": {},
   "outputs": [],
   "source": [
    "# ordinal: OverallQual, OverallCond\n",
    "# nan: MasVnrType, MasVnrArea, BsmtQual, BsmtCond, BsmtExposure, Electrical, FireplaceQu\n",
    "# numeric: MasVnrArea, BsmtFinSF1, BsmtFinSF2, 'BsmtUnfSF', 'TotalBsmtSF','1stFlrSF', \n",
    "#         '2ndFlrSF', 'LowQualFinSF', 'GrLivArea'"
   ]
  }
 ],
 "metadata": {
  "kernelspec": {
   "display_name": "Python 3",
   "language": "python",
   "name": "python3"
  },
  "language_info": {
   "codemirror_mode": {
    "name": "ipython",
    "version": 3
   },
   "file_extension": ".py",
   "mimetype": "text/x-python",
   "name": "python",
   "nbconvert_exporter": "python",
   "pygments_lexer": "ipython3",
   "version": "3.6.4"
  }
 },
 "nbformat": 4,
 "nbformat_minor": 2
}
