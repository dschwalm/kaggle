{
 "cells": [
  {
   "cell_type": "code",
   "execution_count": null,
   "metadata": {
    "scrolled": true
   },
   "outputs": [],
   "source": [
    "import pandas as pd\n",
    "import numpy as np\n",
    "import matplotlib as mp\n",
    "import seaborn as sns\n",
    "import csv\n",
    "import re\n",
    "import sys, os, random\n",
    "\n",
    "from sklearn.linear_model import LinearRegression\n",
    "from sklearn.pipeline import Pipeline\n",
    "from sklearn.preprocessing import Imputer\n",
    "from sklearn.preprocessing import StandardScaler\n",
    "from sklearn.preprocessing import MinMaxScaler\n",
    "from sklearn.preprocessing import Normalizer\n",
    "from sklearn.preprocessing import PolynomialFeatures\n",
    "\n",
    "#sys.path.insert(0, \"/Users/schwalmdaniel/github/xgboost/python-package\")\n",
    "sys.path.insert(0, \"e:/xgboost/python-package\")\n",
    "from xgboost import XGBRegressor\n",
    "\n",
    "from sklearn.model_selection import KFold, cross_val_score, train_test_split\n",
    "from sklearn.metrics import mean_squared_error\n",
    "\n",
    "%matplotlib inline\n",
    "\n",
    "# reproducible results\n",
    "os.environ['PYTHONHASHSEED'] = '0'\n",
    "np.random.seed(37)\n",
    "random.seed(17)\n",
    "\n",
    "pd.set_option('display.max_rows',1000)\n",
    "\n",
    "def rmse_cv(model, train,y):\n",
    "    n_folds = 5\n",
    "    kf = KFold(n_folds, shuffle=True, random_state=42).get_n_splits(train.values)\n",
    "    rmse= np.sqrt(-cross_val_score(model, train.values, y, scoring=\"neg_mean_squared_log_error\", cv = kf))\n",
    "    return(rmse)\n",
    "\n",
    "#root = '/Users/schwalmdaniel/github/kaggle/house_prices_kaggle'\n",
    "root = 'e:/kaggle/house_prices_kaggle'\n",
    "\n",
    "train=pd.read_csv(root + \"/train.csv\")\n",
    "test=pd.read_csv(root + \"/test.csv\")\n",
    "\n",
    "# have a look at the ds\n",
    "train.head()"
   ]
  },
  {
   "cell_type": "raw",
   "metadata": {},
   "source": [
    "str(train.columns.tolist())"
   ]
  },
  {
   "cell_type": "raw",
   "metadata": {},
   "source": [
    "train.shape"
   ]
  },
  {
   "cell_type": "code",
   "execution_count": null,
   "metadata": {},
   "outputs": [],
   "source": [
    "def convertToOrdinal(df,colname,mapping,targetDf,targetColname,dropOriginalCol = True):\n",
    "    mostFrequent = df[colname].value_counts().index[0]\n",
    "    df[colname].fillna(mostFrequent,inplace=True)\n",
    "    targetDf[targetColname] = df[colname].apply(lambda x: mapping[x])\n",
    "    if dropOriginalCol:\n",
    "        targetDf = df.drop([colname],axis=1) \n",
    "        \n",
    "five_scale = {'Ex': 5,'Gd': 4,'TA':3,'Fa':2,'Po':1}\n",
    "LandSlope_scale= {'Gtl': 3,'Mod': 2,'Sev':1}\n",
    "Functional_scale = {'Typ':8,'Min1':7,'Min2':6, 'Mod':5,'Maj1':4,'Maj2':3,'Sev':2,'Sal':1}"
   ]
  },
  {
   "cell_type": "raw",
   "metadata": {},
   "source": [
    "convertToOrdinal(train,'BsmtQual',five_scale,train,'BsmtQualOrdinal')\n",
    "convertToOrdinal(test,'BsmtQual',five_scale,test,'BsmtQualOrdinal')"
   ]
  },
  {
   "cell_type": "code",
   "execution_count": null,
   "metadata": {},
   "outputs": [],
   "source": [
    "convertToOrdinal(train,'BsmtQual',five_scale,train,'BsmtQualOrdinal')\n",
    "convertToOrdinal(test,'BsmtQual',five_scale,test,'BsmtQualOrdinal')\n",
    "convertToOrdinal(train,'BsmtCond',five_scale,train,'BsmtCondOrdinal')\n",
    "convertToOrdinal(test,'BsmtCond',five_scale,test,'BsmtCondOrdinal')\n",
    "\n",
    "convertToOrdinal(train,'ExterQual',five_scale,train,'ExterQualOrdinal')\n",
    "convertToOrdinal(test,'ExterQual',five_scale,test,'ExterQualOrdinal')\n",
    "convertToOrdinal(train,'ExterCond',five_scale,train,'ExterCondOrdinal')\n",
    "convertToOrdinal(test,'ExterCond',five_scale,test,'ExterCondOrdinal')\n",
    "\n",
    "convertToOrdinal(train,'KitchenQual',five_scale,train,'KitchenQualOrdinal')\n",
    "convertToOrdinal(test,'KitchenQual',five_scale,test,'KitchenQualOrdinal')\n",
    "\n",
    "convertToOrdinal(train,'LandSlope',LandSlope_scale,train,'LandSlopeOrdinal')\n",
    "convertToOrdinal(test,'LandSlope',LandSlope_scale,test,'LandSlopeOrdinal')\n",
    "\n",
    "convertToOrdinal(train,'Functional',Functional_scale,train,'FunctionalOrdinal')\n",
    "convertToOrdinal(test,'Functional',Functional_scale,test,'FunctionalOrdinal')\n",
    "\n",
    "convertToOrdinal(train,'HeatingQC',five_scale,train,'HeatingQCOrdinal')\n",
    "convertToOrdinal(test,'HeatingQC',five_scale,test,'HeatingQCOrdinal')\n",
    "\n",
    "convertToOrdinal(train,'KitchenQual',five_scale,train,'KitchenQualOrdinal')\n",
    "convertToOrdinal(test,'KitchenQual',five_scale,test,'KitchenQualOrdinal')\n",
    "\n",
    "convertToOrdinal(train,'FireplaceQu',five_scale,train,'FireplaceQuOrdinal')\n",
    "convertToOrdinal(test,'FireplaceQu',five_scale,test,'FireplaceQuOrdinal')\n",
    "\n",
    "convertToOrdinal(train,'GarageQual',five_scale,train,'GarageQualOrdinal')\n",
    "convertToOrdinal(test,'GarageQual',five_scale,test,'GarageQualOrdinal')\n",
    "\n",
    "convertToOrdinal(train,'GarageCond',five_scale,train,'GarageCondOrdinal')\n",
    "convertToOrdinal(test,'GarageCond',five_scale,test,'GarageCondOrdinal')\n",
    "\n",
    "convertToOrdinal(train,'PoolQC',five_scale,train,'PoolQCOrdinal')\n",
    "convertToOrdinal(test,'PoolQC',five_scale,test,'PoolQCOrdinal')\n",
    "\n",
    "train['CentralAir'] = train['CentralAir'].apply(lambda x : 0 if x == 'N' else 1)\n",
    "test['CentralAir'] = test['CentralAir'].apply(lambda x : 0 if x == 'N' else 1)"
   ]
  },
  {
   "cell_type": "raw",
   "metadata": {},
   "source": [
    "train['AgeWhenSold'] = train['YrSold']-train['YearBuilt']\n",
    "maxAge = train['AgeWhenSold'].max()\n",
    "train['AgeWhenSold'] = train['AgeWhenSold'].apply(lambda x : maxAge-x)\n",
    "\n",
    "test['AgeWhenSold'] = test['YrSold']-test['YearBuilt'] \n",
    "maxAge = test['AgeWhenSold'].max()\n",
    "test['AgeWhenSold'] = test['AgeWhenSold'].apply(lambda x : maxAge-x)\n",
    "\n",
    "train['YearsSinceRenovated'] = train['YrSold']-train['YearRemodAdd'] \n",
    "maxAge = train['YearsSinceRenovated'].max()\n",
    "train['YearsSinceRenovated'] = train['YearsSinceRenovated'].apply(lambda x : maxAge-x)\n",
    "\n",
    "test['YearsSinceRenovated'] = test['YrSold']-test['YearRemodAdd'] \n",
    "maxAge = test['YearsSinceRenovated'].max()\n",
    "test['YearsSinceRenovated'] = test['YearsSinceRenovated'].apply(lambda x : maxAge-x)\n",
    "test['YearsSinceRenovated'].hist()"
   ]
  },
  {
   "cell_type": "code",
   "execution_count": null,
   "metadata": {},
   "outputs": [],
   "source": [
    "train['HasShed'] = train['MiscFeature'].apply(lambda x: 1 if x == 'Shed' else 0)\n",
    "test['HasShed'] = test['MiscFeature'].apply(lambda x: 1 if x == 'Shed' else 0)"
   ]
  },
  {
   "cell_type": "code",
   "execution_count": null,
   "metadata": {},
   "outputs": [],
   "source": [
    "def getStoryCount(name):\n",
    "    if name == '1Story':\n",
    "        return 1.0\n",
    "    elif name == '2Story':\n",
    "        return 2.0\n",
    "    elif name in ('1.5Fin','1.5Unf'):\n",
    "        return 1.5\n",
    "    elif name in ('2.5Fin','2.5Unf'):\n",
    "        return 2.5\n",
    "    else:\n",
    "        return 0.5\n",
    "\n",
    "train['StoryCount'] = train['HouseStyle'].apply(lambda x: getStoryCount(x))\n",
    "test['StoryCount'] = test['HouseStyle'].apply(lambda x: getStoryCount(x))"
   ]
  },
  {
   "cell_type": "code",
   "execution_count": null,
   "metadata": {},
   "outputs": [],
   "source": [
    "train['LotLivingRatio'] = 1 - train['1stFlrSF'] / train['LotArea']\n",
    "test['LotLivingRatio'] = 1 - test['1stFlrSF'] / test['LotArea']"
   ]
  },
  {
   "cell_type": "code",
   "execution_count": null,
   "metadata": {},
   "outputs": [],
   "source": [
    "# to unify values to dummify in both train and test set, we concatenate them\n",
    "train_objs_num = len(train)\n",
    "dataset = pd.concat(objs=[train, test], axis=0)\n",
    "dataset = pd.get_dummies(dataset, columns = ['MSSubClass', 'MSZoning', 'Street','Alley','LotShape','LandContour','Utilities',\n",
    "                          'LotConfig','Neighborhood','Condition1','Condition2','BldgType','HouseStyle',\n",
    "                         'RoofStyle','RoofMatl','Exterior1st','Exterior2nd','MasVnrType',\n",
    "                         'Foundation','BsmtExposure','BsmtFinType1','BsmtFinType2','Heating',\n",
    "                         'Electrical','GarageType',\n",
    "                         'GarageFinish','PavedDrive',\n",
    "                         'Fence','MoSold','SaleType', 'SaleCondition'                 \n",
    "                         #,'BsmtQual','BsmtCond','ExterQual','ExterCond','KitchenQual' ,'LandSlope','Functional', 'HeatingQC'\n",
    "                        # 'CentralAir',\n",
    "                         ],  # which columns to dummify \n",
    "               prefix_sep='__')\n",
    "train = dataset[:train_objs_num]\n",
    "test = dataset[train_objs_num:]\n",
    "#'BsmtQual'\n",
    "train.shape\n"
   ]
  },
  {
   "cell_type": "raw",
   "metadata": {},
   "source": [
    "train.describe()"
   ]
  },
  {
   "cell_type": "code",
   "execution_count": null,
   "metadata": {},
   "outputs": [],
   "source": [
    "train['GarageYrBlt'].fillna(0,inplace=True)\n",
    "test['GarageYrBlt'].fillna(0,inplace=True)\n",
    "test['BsmtFullBath'].fillna(0,inplace=True)\n",
    "test['BsmtFinSF2'].fillna(0,inplace=True)\n",
    "test['BsmtHalfBath'].fillna(0,inplace=True)\n",
    "test['BsmtUnfSF'].fillna(0,inplace=True)\n",
    "test['GarageArea'].fillna(0,inplace=True)\n",
    "test['GarageCars'].fillna(0,inplace=True)\n",
    "test['TotalBsmtSF'].fillna(0,inplace=True)\n",
    "train['MasVnrArea'].fillna(train['MasVnrArea'].mean(),inplace=True)\n",
    "test['MasVnrArea'].fillna(train['MasVnrArea'].mean(),inplace=True)\n",
    "train['LotFrontage'].fillna(train['LotFrontage'].mean(),inplace=True)\n",
    "test['LotFrontage'].fillna(train['LotFrontage'].mean(),inplace=True)\n",
    "train['BsmtFinSF1'].fillna(train['BsmtFinSF1'].mean(),inplace=True)\n",
    "test['BsmtFinSF1'].fillna(train['BsmtFinSF1'].mean(),inplace=True)"
   ]
  },
  {
   "cell_type": "code",
   "execution_count": null,
   "metadata": {},
   "outputs": [],
   "source": [
    "X = train.drop(['Id','SalePrice','BsmtQual','BsmtCond','ExterQual','ExterCond','KitchenQual',\n",
    "                'LandSlope','Functional','HeatingQC','GarageQual','GarageCond','PoolQC','FireplaceQu',\n",
    "                'MiscFeature','GarageArea'],axis=1,errors='ignore') \n",
    "y = train['SalePrice']\n",
    "X_test = test.drop(['Id','SalePrice','BsmtQual','BsmtCond', 'ExterQual','ExterCond','KitchenQual',\n",
    "                'LandSlope','Functional','HeatingQC','GarageQual','GarageCond','PoolQC','FireplaceQu',\n",
    "                   'MiscFeature','GarageArea'],axis=1,errors='ignore')"
   ]
  },
  {
   "cell_type": "raw",
   "metadata": {},
   "source": [
    "X_test.isnull().sum()"
   ]
  },
  {
   "cell_type": "raw",
   "metadata": {},
   "source": [
    "#pd.set_option('display.max_rows',1000)\n",
    "s = X.isnull().sum()\n",
    "s = s[s != 0]\n",
    "s"
   ]
  },
  {
   "cell_type": "code",
   "execution_count": null,
   "metadata": {},
   "outputs": [],
   "source": [
    "def _get_xgb_feat_importances(clf, feature_names):\n",
    "\n",
    "        try:\n",
    "            # Handles case when clf has been created by calling\n",
    "            # xgb.XGBClassifier.fit() or xgb.XGBRegressor().fit()\n",
    "            fscore = clf.get_booster().get_fscore()\n",
    "        except:\n",
    "            # Handles case when clf has been created by calling xgb.train.\n",
    "            # Thus, clf is an instance of xgb.Booster.\n",
    "            fscore = clf.get_fscore()\n",
    "\n",
    "        trained_feature_names = feature_names #self._get_trained_feature_names()\n",
    "\n",
    "        feat_importances = []\n",
    "        \n",
    "        #print(fscore.items())\n",
    "\n",
    "        features = {}\n",
    "        \n",
    "        for k, v in fscore.items():\n",
    "            features[k] = v\n",
    "            \n",
    "        return sorted(features.items(), key=lambda x: x[1])[-50:]"
   ]
  },
  {
   "cell_type": "code",
   "execution_count": null,
   "metadata": {},
   "outputs": [],
   "source": [
    "model = XGBRegressor(colsample_bytree=0.4603, gamma=0.0468, \n",
    "                             learning_rate=0.05, max_depth=3, \n",
    "                             min_child_weight=1.7817, n_estimators=2200,#2200,\n",
    "                             reg_alpha=0.4640, reg_lambda=0.8571,\n",
    "                             subsample=0.5213, silent=1,\n",
    "                             random_state =7, nthread = -1)\n",
    "\n",
    "#pipeline = Pipeline([('imputer', Imputer(strategy='mean')), ('classify', model)])\n",
    "pipeline = Pipeline([('classify', model)])\n",
    "pipeline.fit(X,y)\n",
    "score = rmse_cv(pipeline, X, y)\n",
    "print(\"\\pipeline score: {:.4f} ({:.4f})\\n\".format(score.mean(), score.std()))\n",
    "\n",
    "preds = pipeline.predict(X_test)\n",
    "\n",
    "predicted = pd.DataFrame()\n",
    "predicted['Id'] = test['Id']\n",
    "predicted['SalePrice'] = preds\n",
    "predicted[['Id', 'SalePrice']] = predicted[['Id', 'SalePrice']]\n",
    "predicted.to_csv(root + '/submission.csv', index=False,quoting=csv.QUOTE_NONNUMERIC)\n",
    "\n",
    "predicted.head()\n",
    "#last one: \\pipeline score: 0.1222 (0.0088) only basement quality ordinal\n",
    "#\\pipeline score: 0.1233 (0.0110) - exterqual, extercond ordinal\n"
   ]
  },
  {
   "cell_type": "raw",
   "metadata": {},
   "source": [
    "X.columns.tolist()"
   ]
  },
  {
   "cell_type": "raw",
   "metadata": {},
   "source": [
    "['OpenPorchSF__0: 0.0031', 'LotConfig__Inside: 0.0031', 'Condition1__Norm: 0.0032', 'GarageType__Attchd: 0.0032', 'Neighborhood__NridgHt: 0.0032', 'GarageFinish__RFn: 0.0033', 'WoodDeckSF__140: 0.0033', 'HalfBath: 0.0034', 'SaleCondition__Abnorml: 0.0034', 'Neighborhood__Crawfor: 0.0034', 'MoSold__7: 0.0034', 'LandContour__HLS: 0.0035', 'MoSold__10: 0.0036', 'BsmtExposure__No: 0.0036', 'WoodDeckSF__0: 0.0037', 'Neighborhood__StoneBr: 0.0038', 'LotShape__IR1: 0.0039', 'WoodDeckSF__143: 0.004', 'BsmtQual__Ex: 0.004', 'BsmtFinType1__GLQ: 0.004', 'BsmtExposure__Gd: 0.004', 'FullBath: 0.0041', 'SaleCondition__Normal: 0.0046', 'MoSold__12: 0.0048', 'BsmtFullBath: 0.005', 'SaleCondition__Family: 0.0052', 'GarageCars: 0.0059', 'Fireplaces: 0.0063', 'OpenPorchSF__33: 0.0064', 'ScreenPorch: 0.0066', 'BsmtFinSF2: 0.0066', 'BedroomAbvGr: 0.0078', 'EnclosedPorch: 0.0092', 'TotRmsAbvGrd: 0.0098', 'OverallCond: 0.0113', 'YrSold: 0.0132', 'OverallQual: 0.0162', 'YearRemodAdd: 0.0195', '2ndFlrSF: 0.023', 'YearBuilt: 0.024', 'GarageYrBlt: 0.0259', 'MasVnrArea: 0.0279', 'LotFrontage: 0.0309', 'TotalBsmtSF: 0.0407', 'BsmtFinSF1: 0.0434', 'GarageArea: 0.0441', '1stFlrSF: 0.0499', 'LotArea: 0.0514', 'GrLivArea: 0.052', 'BsmtUnfSF: 0.0541']\""
   ]
  },
  {
   "cell_type": "code",
   "execution_count": null,
   "metadata": {},
   "outputs": [],
   "source": [
    "str(list(_get_xgb_feat_importances(model, X.columns.tolist())))"
   ]
  },
  {
   "cell_type": "raw",
   "metadata": {},
   "source": [
    "lr = LinearRegression() \n",
    "pipeline = Pipeline([('imputer', Imputer(strategy='mean')), ('classify', lr)])\n",
    "\n",
    "pipeline.fit(X,y)\n",
    "preds = pipeline.predict(X_test)\n",
    "\n",
    "print (pipeline.score(X,y))\n",
    "\n",
    "predicted = pd.DataFrame()\n",
    "predicted['Id'] = test['Id']\n",
    "predicted['SalePrice'] = preds\n",
    "predicted[['Id', 'SalePrice']] = predicted[['Id', 'SalePrice']].astype(int)\n",
    "predicted.to_csv(root + '/submission.csv', index=False,quoting=csv.QUOTE_NONNUMERIC)\n",
    "\n",
    "predicted.head()"
   ]
  },
  {
   "cell_type": "code",
   "execution_count": null,
   "metadata": {},
   "outputs": [],
   "source": [
    "# ordinal: OverallQual, OverallCond\n",
    "# nan: MasVnrType, MasVnrArea, BsmtQual, BsmtCond, BsmtExposure, Electrical, FireplaceQu\n",
    "# numeric: MasVnrArea, BsmtFinSF1, BsmtFinSF2, 'BsmtUnfSF', 'TotalBsmtSF','1stFlrSF', \n",
    "#         '2ndFlrSF', 'LowQualFinSF', 'GrLivArea'"
   ]
  }
 ],
 "metadata": {
  "kernelspec": {
   "display_name": "Python 3",
   "language": "python",
   "name": "python3"
  },
  "language_info": {
   "codemirror_mode": {
    "name": "ipython",
    "version": 3
   },
   "file_extension": ".py",
   "mimetype": "text/x-python",
   "name": "python",
   "nbconvert_exporter": "python",
   "pygments_lexer": "ipython3",
   "version": "3.6.5"
  }
 },
 "nbformat": 4,
 "nbformat_minor": 2
}
