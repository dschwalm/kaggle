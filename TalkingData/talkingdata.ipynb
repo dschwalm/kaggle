{
 "cells": [
  {
   "cell_type": "code",
   "execution_count": 15,
   "metadata": {
    "collapsed": false
   },
   "outputs": [],
   "source": [
    "import scipy\n",
    "import numpy as np\n",
    "import pandas as pd\n",
    "from sklearn.ensemble import ExtraTreesClassifier\n",
    "from sklearn.cross_validation import cross_val_score\n",
    "from sklearn.preprocessing import Imputer\n",
    "\n",
    "#df = pd.read_csv('TalkingData/phone_brand_device_model.csv')\n",
    "\n",
    "df_train = pd.read_csv('gender_age_train.csv')\n",
    "df_brand = pd.read_csv('phone_brand_device_model.csv')\n",
    "df_brand_id = pd.read_csv('phone_brand_id.csv')\n",
    "df_model_id = pd.read_csv('device_model_id.csv')\n",
    "\n",
    "df_merged = pd.merge(df_train, df_brand, on='device_id')\n",
    "df_merged = pd.merge(df_merged, df_brand_id, on='phone_brand')\n",
    "df_merged = pd.merge(df_merged, df_model_id, on='device_model')\n",
    "#df_merged"
   ]
  },
  {
   "cell_type": "code",
   "execution_count": 16,
   "metadata": {
    "collapsed": false
   },
   "outputs": [
    {
     "name": "stdout",
     "output_type": "stream",
     "text": [
      "['phone_brand_id'] -> ET: 0.64133672946\n"
     ]
    }
   ],
   "source": [
    "columns = ['phone_brand_id']\n",
    "\n",
    "labels = df_merged['gender'].values\n",
    "features = df_merged[list(columns)].values\n",
    "\n",
    "et = ExtraTreesClassifier(n_estimators=10, max_depth=None, min_samples_split=1, random_state=0)\n",
    "et_score = cross_val_score(et,features,labels).mean()\n",
    "print (\"{0} -> ET: {1}\").format(columns, et_score)"
   ]
  },
  {
   "cell_type": "code",
   "execution_count": 20,
   "metadata": {
    "collapsed": false
   },
   "outputs": [],
   "source": [
    "#prediction\n",
    "\n",
    "df_test = pd.read_csv('gender_age_test.csv')\n",
    "df_merged_test = pd.merge(df_test, df_brand, on='device_id')\n",
    "df_merged_test = pd.merge(df_merged_test, df_brand_id, on='phone_brand')\n",
    "df_merged_test = pd.merge(df_merged_test, df_model_id, on='device_model')\n",
    "#df_merged_test\n",
    "\n",
    "imp = Imputer(missing_values='NaN', strategy='mean', axis=0)\n",
    "imp.fit(features)\n",
    "\n",
    "et.fit(features,labels)\n",
    "predictions = et.predict(imp.transform(df_merged_test[columns].values))\n",
    "df_test['gender'] = pd.Series(predictions)\n",
    "#df_test\n",
    "\n",
    "df_test.to_csv('sample_out.csv', encoding='utf8', index=False)"
   ]
  },
  {
   "cell_type": "code",
   "execution_count": null,
   "metadata": {
    "collapsed": true
   },
   "outputs": [],
   "source": []
  },
  {
   "cell_type": "code",
   "execution_count": null,
   "metadata": {
    "collapsed": true
   },
   "outputs": [],
   "source": []
  }
 ],
 "metadata": {
  "kernelspec": {
   "display_name": "Python 2",
   "language": "python",
   "name": "python2"
  },
  "language_info": {
   "codemirror_mode": {
    "name": "ipython",
    "version": 2
   },
   "file_extension": ".py",
   "mimetype": "text/x-python",
   "name": "python",
   "nbconvert_exporter": "python",
   "pygments_lexer": "ipython2",
   "version": "2.7.10"
  }
 },
 "nbformat": 4,
 "nbformat_minor": 0
}
